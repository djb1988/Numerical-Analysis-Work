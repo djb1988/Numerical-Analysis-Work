{
  "nbformat": 4,
  "nbformat_minor": 0,
  "metadata": {
    "colab": {
      "provenance": []
    },
    "kernelspec": {
      "name": "python3",
      "display_name": "Python 3"
    },
    "language_info": {
      "name": "python"
    }
  },
  "cells": [
    {
      "cell_type": "markdown",
      "source": [
        "# Intro to very basic python.\n",
        "\n",
        "MAP3253 and MAP5255 Spring 2023\n",
        "\n",
        "Mathematics and Statistics, FIU\n",
        "\n",
        "Prepared by Giancarlo Sanchez\n",
        "\n",
        "\n"
      ],
      "metadata": {
        "id": "-9GFCUcnfX3b"
      }
    },
    {
      "cell_type": "markdown",
      "source": [
        "## Printing stuff"
      ],
      "metadata": {
        "id": "FfbeGveRqzHa"
      }
    },
    {
      "cell_type": "markdown",
      "source": [
        "`print()` is going to be your favorite function for debugging"
      ],
      "metadata": {
        "id": "upPZod4lZXGa"
      }
    },
    {
      "cell_type": "code",
      "source": [
        "print('hi')"
      ],
      "metadata": {
        "colab": {
          "base_uri": "https://localhost:8080/"
        },
        "id": "s9L1oqEexGUI",
        "outputId": "eba0efac-2f8e-400b-b409-53df132cf6b4"
      },
      "execution_count": null,
      "outputs": [
        {
          "output_type": "stream",
          "name": "stdout",
          "text": [
            "hi\n"
          ]
        }
      ]
    },
    {
      "cell_type": "code",
      "source": [
        "print(24356.345)"
      ],
      "metadata": {
        "id": "8XQTwHljftUx",
        "colab": {
          "base_uri": "https://localhost:8080/"
        },
        "outputId": "a89e8eee-c4ae-4e57-87ff-34b682a3ed87"
      },
      "execution_count": null,
      "outputs": [
        {
          "output_type": "stream",
          "name": "stdout",
          "text": [
            "24356.345\n"
          ]
        }
      ]
    },
    {
      "cell_type": "markdown",
      "source": [
        "## Defining variables\n"
      ],
      "metadata": {
        "id": "JY_zWNpAxm5B"
      }
    },
    {
      "cell_type": "code",
      "execution_count": null,
      "metadata": {
        "id": "B-KgCXSFfI-d"
      },
      "outputs": [],
      "source": [
        "# before we start <= this is how you add a comment\n",
        "course_name = \"Numerical Methods\" # a string/text\n",
        "course_description = 'hard to say' # single quotes also work\n",
        "room_number = 409\n",
        "expected_mini_lecture_duration_in_min = 15\n",
        "verbosity_factor = 1.73\n",
        "actual_mini_lecture_duration_in_min = verbosity_factor*expected_mini_lecture_duration_in_min\n",
        "is_class_in_progress = False"
      ]
    },
    {
      "cell_type": "code",
      "source": [
        "# we can print-out the values of our variables\n",
        "# print is a function in python3\n",
        "# functions are called as: function_name(argument1, argument2)\n",
        "\n",
        "print(course_name)\n",
        "print(room_number, is_class_in_progress)\n",
        "print(expected_mini_lecture_duration_in_min, actual_mini_lecture_duration_in_min)\n"
      ],
      "metadata": {
        "id": "Eadr_lh6i7xC",
        "colab": {
          "base_uri": "https://localhost:8080/"
        },
        "outputId": "f1cbab75-91c5-4656-820d-67a530ff42b4"
      },
      "execution_count": null,
      "outputs": [
        {
          "output_type": "stream",
          "name": "stdout",
          "text": [
            "Numerical Methods\n",
            "409 False\n",
            "15 25.95\n"
          ]
        }
      ]
    },
    {
      "cell_type": "code",
      "source": [
        "type(print)"
      ],
      "metadata": {
        "colab": {
          "base_uri": "https://localhost:8080/"
        },
        "id": "q9z38bjrzDbw",
        "outputId": "00c6cff6-5df5-4104-9818-0a40cbb67749"
      },
      "execution_count": null,
      "outputs": [
        {
          "output_type": "execute_result",
          "data": {
            "text/plain": [
              "builtin_function_or_method"
            ]
          },
          "metadata": {},
          "execution_count": 5
        }
      ]
    },
    {
      "cell_type": "code",
      "source": [
        "# ?? add a couple of variables of your own"
      ],
      "metadata": {
        "id": "2XH4WOM-bIVG"
      },
      "execution_count": null,
      "outputs": []
    },
    {
      "cell_type": "code",
      "source": [
        "# the variables are of different types -- but this is determined automatically\n",
        "# (In, say, C++ we would have to explicitly declare the type of each variable.)\n",
        "print(type(course_name))\n",
        "print(type(expected_mini_lecture_duration_in_min))\n",
        "print(type(actual_mini_lecture_duration_in_min))\n",
        "print(type(is_class_in_progress))"
      ],
      "metadata": {
        "id": "Sa1YjhkihzHA",
        "colab": {
          "base_uri": "https://localhost:8080/"
        },
        "outputId": "2f0e215b-e0a4-4aff-ea32-817edb73b238"
      },
      "execution_count": null,
      "outputs": [
        {
          "output_type": "stream",
          "name": "stdout",
          "text": [
            "<class 'str'>\n",
            "<class 'int'>\n",
            "<class 'float'>\n",
            "<class 'bool'>\n"
          ]
        }
      ]
    },
    {
      "cell_type": "markdown",
      "source": [
        "## Expressions\n"
      ],
      "metadata": {
        "id": "QNrYswHcd36e"
      }
    },
    {
      "cell_type": "code",
      "source": [
        "print(room_number + 100)\n",
        " # this expression doesn't really do anything!\n"
      ],
      "metadata": {
        "colab": {
          "base_uri": "https://localhost:8080/"
        },
        "id": "sgNkj0940dNm",
        "outputId": "8596ccbe-b017-4602-cd93-fc500fce0860"
      },
      "execution_count": null,
      "outputs": [
        {
          "output_type": "stream",
          "name": "stdout",
          "text": [
            "509\n"
          ]
        }
      ]
    },
    {
      "cell_type": "code",
      "source": [
        "room_number + 100 # this expression doesn't really do anything!\n",
        "some_value = room_number + 100 # but we can assign its value\n",
        "some_other_value = 2*some_value\n",
        "print(some_value, some_other_value)\n",
        "print(course_name, room_number) # our old variables should be the same!\n",
        "print(room_number == 409)"
      ],
      "metadata": {
        "id": "AZAGmeFrd4fG",
        "colab": {
          "base_uri": "https://localhost:8080/"
        },
        "outputId": "a9db7a8f-e794-462d-868b-8dcdb4db3d52"
      },
      "execution_count": null,
      "outputs": [
        {
          "output_type": "stream",
          "name": "stdout",
          "text": [
            "509 1018\n",
            "Numerical Methods 409\n",
            "True\n"
          ]
        }
      ]
    },
    {
      "cell_type": "code",
      "source": [
        "print(type(room_number / 2)) # this is different than in python 2\n",
        "print(type(room_number // 2)) # also you cannot skip the parenthesis '(', ')'\n",
        "#print 4 # try me!"
      ],
      "metadata": {
        "id": "DHqg3-j4ik3D",
        "colab": {
          "base_uri": "https://localhost:8080/"
        },
        "outputId": "7d49457b-d162-4789-8c7a-1679ab7641e2"
      },
      "execution_count": null,
      "outputs": [
        {
          "output_type": "stream",
          "name": "stdout",
          "text": [
            "<class 'float'>\n",
            "<class 'int'>\n"
          ]
        }
      ]
    },
    {
      "cell_type": "code",
      "source": [
        "7//4"
      ],
      "metadata": {
        "colab": {
          "base_uri": "https://localhost:8080/"
        },
        "id": "gaEbFYY-J5SM",
        "outputId": "fc39b524-94ab-476f-a5e7-ab811bf5ec98"
      },
      "execution_count": null,
      "outputs": [
        {
          "output_type": "execute_result",
          "data": {
            "text/plain": [
              "1"
            ]
          },
          "metadata": {},
          "execution_count": 11
        }
      ]
    },
    {
      "cell_type": "code",
      "source": [
        "# ?? can you try some other combinations? What happens if you multiply\n",
        "# a string by a number?\n",
        "# ?? or add two strings? will it work?\n",
        "# ?? what happens if I divide by zero?\n",
        "# ?? how does the % operator do?\n",
        "# ?? and for negative numbers\n",
        "print(2^3)\n",
        "print(10**300)\n",
        "print(3%2)\n",
        "print(3==5)\n",
        "print(3==3)\n",
        "print(\"new:\", 666*(3==6))\n",
        "print('abc'*(3!=3))\n",
        "print(\"It's nice\")"
      ],
      "metadata": {
        "id": "8-XLt46Cblqz",
        "colab": {
          "base_uri": "https://localhost:8080/"
        },
        "outputId": "52bcf4ea-0d6d-40c2-c941-c1fb90049403"
      },
      "execution_count": null,
      "outputs": [
        {
          "output_type": "stream",
          "name": "stdout",
          "text": [
            "1\n",
            "1000000000000000000000000000000000000000000000000000000000000000000000000000000000000000000000000000000000000000000000000000000000000000000000000000000000000000000000000000000000000000000000000000000000000000000000000000000000000000000000000000000000000000000000000000000000000000000000000000000000000\n",
            "1\n",
            "False\n",
            "True\n",
            "new: 0\n",
            "\n",
            "It's nice\n"
          ]
        }
      ]
    },
    {
      "cell_type": "code",
      "source": [
        "print(\"a\" if 3==2 else 5)"
      ],
      "metadata": {
        "colab": {
          "base_uri": "https://localhost:8080/"
        },
        "id": "Veps0H4LLkbI",
        "outputId": "2a99e588-73b1-4915-86ab-3def29dba75d"
      },
      "execution_count": null,
      "outputs": [
        {
          "output_type": "stream",
          "name": "stdout",
          "text": [
            "5\n"
          ]
        }
      ]
    },
    {
      "cell_type": "markdown",
      "source": [
        "## Modifying variables"
      ],
      "metadata": {
        "id": "rn3ZEkm6keju"
      }
    },
    {
      "cell_type": "code",
      "source": [
        "some_value = 0\n",
        "print(some_value)\n",
        "x = 5\n",
        "some_value = some_value + 1000*x\n",
        "print(some_value)\n",
        "some_value += 1000\n",
        "print(some_value)\n",
        "some_value *= 2\n",
        "print(some_value)\n",
        "print(some_value//285)\n",
        "print(some_value)"
      ],
      "metadata": {
        "id": "QZGI3rC6j2Uu",
        "colab": {
          "base_uri": "https://localhost:8080/"
        },
        "outputId": "a5741dd8-42fa-4fce-8b20-874b03924923"
      },
      "execution_count": null,
      "outputs": [
        {
          "output_type": "stream",
          "name": "stdout",
          "text": [
            "0\n",
            "5000\n",
            "6000\n",
            "12000\n",
            "42\n",
            "12000\n"
          ]
        }
      ]
    },
    {
      "cell_type": "code",
      "source": [
        "# ?? try some syntax you know from other languages!\n",
        "# ?? will 'some_value++' work? how about some_value := 3 ?\n",
        "# can I remove a variable??"
      ],
      "metadata": {
        "id": "Oi9VEw-CbwsN"
      },
      "execution_count": null,
      "outputs": []
    },
    {
      "cell_type": "code",
      "source": [
        "b = 0\n",
        "a = b\n",
        "b += 12\n",
        "# ?? b is 12, but did a also change ?"
      ],
      "metadata": {
        "id": "MZJ6AUrzgYy7"
      },
      "execution_count": null,
      "outputs": []
    },
    {
      "cell_type": "code",
      "source": [
        "print(a,b)"
      ],
      "metadata": {
        "colab": {
          "base_uri": "https://localhost:8080/"
        },
        "id": "v8xSOkIjNmFh",
        "outputId": "29830d4a-b124-42f3-9b99-d17c40e7065f"
      },
      "execution_count": null,
      "outputs": [
        {
          "output_type": "stream",
          "name": "stdout",
          "text": [
            "0 12\n"
          ]
        }
      ]
    },
    {
      "cell_type": "code",
      "source": [],
      "metadata": {
        "id": "ks5MxjsnOLMI"
      },
      "execution_count": null,
      "outputs": []
    },
    {
      "cell_type": "markdown",
      "source": [
        "## Conditions"
      ],
      "metadata": {
        "id": "8HjXoqchyBTi"
      }
    },
    {
      "cell_type": "code",
      "source": [
        "if room_number == 409:\n",
        "  print('It\"s okay') # note print('It's okay') wouldn't work\n",
        "  print('He said \"It was a good day\"')\n",
        "  ok = True\n",
        "\n"
      ],
      "metadata": {
        "id": "OhynKlS0yEye",
        "colab": {
          "base_uri": "https://localhost:8080/"
        },
        "outputId": "3823a83b-97e5-41c9-d67f-97e9e0565bbf"
      },
      "execution_count": null,
      "outputs": [
        {
          "output_type": "stream",
          "name": "stdout",
          "text": [
            "It\"s okay\n",
            "He said \"It was a good day\"\n"
          ]
        }
      ]
    },
    {
      "cell_type": "code",
      "source": [
        "ok"
      ],
      "metadata": {
        "id": "EywUD6blPSpe",
        "colab": {
          "base_uri": "https://localhost:8080/"
        },
        "outputId": "6f5e7ab3-7912-4059-e073-eae167a1190b"
      },
      "execution_count": null,
      "outputs": [
        {
          "output_type": "execute_result",
          "data": {
            "text/plain": [
              "True"
            ]
          },
          "metadata": {},
          "execution_count": 19
        }
      ]
    },
    {
      "cell_type": "code",
      "source": [
        "# we can add more conditions\n",
        "current_topic = 'python'\n",
        "\n",
        "if room_number == 409 and current_topic == 'topology': # note the and !\n",
        "  print(\"I may be lost :)\")\n",
        "elif room_number == 413:\n",
        "  print('aaa')\n",
        "else:\n",
        "  print(\"It seems like a good room\")"
      ],
      "metadata": {
        "colab": {
          "base_uri": "https://localhost:8080/"
        },
        "id": "5xBfkOLeeXKt",
        "outputId": "33498bd7-414b-4a17-d53c-90354d13d007"
      },
      "execution_count": null,
      "outputs": [
        {
          "output_type": "stream",
          "name": "stdout",
          "text": [
            "It seems like a good room\n"
          ]
        }
      ]
    },
    {
      "cell_type": "markdown",
      "source": [
        "## Exercise:\n",
        "\n",
        "k = 5 # you can change this to some other value\n",
        "\n",
        "- now write code which decides to print 'zero', 'positive', 'negative' depending on the sign of the number"
      ],
      "metadata": {
        "id": "We1A_rJQskIz"
      }
    },
    {
      "cell_type": "code",
      "source": [
        "k = -50\n",
        "\n",
        "if k > 0: print('Positive')\n",
        "elif k < 0: print('Negative')\n",
        "else: print(\"It's Zero\")"
      ],
      "metadata": {
        "colab": {
          "base_uri": "https://localhost:8080/"
        },
        "id": "jgIykC0vQEEt",
        "outputId": "f676c2aa-52fd-4278-d9a1-faadcd24960d"
      },
      "execution_count": null,
      "outputs": [
        {
          "output_type": "stream",
          "name": "stdout",
          "text": [
            "Negative\n"
          ]
        }
      ]
    },
    {
      "cell_type": "markdown",
      "source": [
        "Exercise:\n",
        "\n",
        "- given two numbers $a,b \\in \\mathbb{R}$ print the distance betwen them; eg. for $5,3.5$ print $1.5$.\n",
        "\n",
        "- given three numbers $a,b,c \\in \\mathbb{R}$ create a new variable $m$ equal to the smallest of them. Eg. for $3,2,5$, $m$ should now we $2$.\n"
      ],
      "metadata": {
        "id": "9kENKaEwtMME"
      }
    },
    {
      "cell_type": "code",
      "source": [
        "# Do it\n",
        "\n",
        "a = -3\n",
        "b = -3\n",
        "\n",
        "if a - b >= 0:\n",
        "  print(a-b)\n",
        "\n",
        "else:\n",
        "  print(b-a)"
      ],
      "metadata": {
        "id": "cqlv_EbjejjX",
        "colab": {
          "base_uri": "https://localhost:8080/"
        },
        "outputId": "083240aa-12d7-4d09-e4fc-979d703ad9d5"
      },
      "execution_count": null,
      "outputs": [
        {
          "output_type": "stream",
          "name": "stdout",
          "text": [
            "0\n"
          ]
        }
      ]
    },
    {
      "cell_type": "code",
      "source": [
        "a = -5\n",
        "b = -3\n",
        "c = 3\n",
        "\n",
        "if a <= b and a <= c:\n",
        "    m = a\n",
        "elif b <= a and b <= c:\n",
        "    m = b\n",
        "else:\n",
        "    m = c"
      ],
      "metadata": {
        "id": "xvFDB0fsXz9Z"
      },
      "execution_count": null,
      "outputs": []
    },
    {
      "cell_type": "code",
      "source": [
        "min(1,2,3)"
      ],
      "metadata": {
        "colab": {
          "base_uri": "https://localhost:8080/"
        },
        "id": "T6Q-YH0-_NDI",
        "outputId": "5fd42bbe-5829-4054-c5e1-79aaa190c9fe"
      },
      "execution_count": null,
      "outputs": [
        {
          "output_type": "execute_result",
          "data": {
            "text/plain": [
              "1"
            ]
          },
          "metadata": {},
          "execution_count": 24
        }
      ]
    },
    {
      "cell_type": "markdown",
      "source": [
        "#Functions\n",
        "\n",
        "Often if a piece of code can be used more than once, we can think of creating a function (or subroutine). We can then call this function, rather than copy-paste the code."
      ],
      "metadata": {
        "id": "yfHWJTaZrMsl"
      }
    },
    {
      "cell_type": "code",
      "source": [
        "x = 4"
      ],
      "metadata": {
        "colab": {
          "base_uri": "https://localhost:8080/"
        },
        "id": "9jhsfKHTYGvP",
        "outputId": "042fde25-907b-4d86-b3d6-fd8f178317a1"
      },
      "execution_count": null,
      "outputs": [
        {
          "output_type": "execute_result",
          "data": {
            "text/plain": [
              "1"
            ]
          },
          "metadata": {},
          "execution_count": 25
        }
      ]
    },
    {
      "cell_type": "code",
      "source": [
        "type(min)"
      ],
      "metadata": {
        "id": "YQY1xPVhQ0lf",
        "colab": {
          "base_uri": "https://localhost:8080/"
        },
        "outputId": "7667e82e-aec4-4f1e-a8a3-4b4a91fa5541"
      },
      "execution_count": null,
      "outputs": [
        {
          "output_type": "execute_result",
          "data": {
            "text/plain": [
              "builtin_function_or_method"
            ]
          },
          "metadata": {},
          "execution_count": 26
        }
      ]
    },
    {
      "cell_type": "code",
      "source": [
        "?min"
      ],
      "metadata": {
        "id": "cJB19ozvnSim"
      },
      "execution_count": null,
      "outputs": []
    },
    {
      "cell_type": "code",
      "source": [
        "# below is function definition\n",
        "def well_chosen_function_name(first_argument, second_argument):\n",
        "  local_variable_name = 'something'\n",
        "\n",
        "  return local_variable_name * (first_argument + second_argument)"
      ],
      "metadata": {
        "id": "0qLiqLOtugcf"
      },
      "execution_count": null,
      "outputs": []
    },
    {
      "cell_type": "code",
      "source": [
        "?well_chosen_function_name"
      ],
      "metadata": {
        "id": "xdp930a2nInK"
      },
      "execution_count": null,
      "outputs": []
    },
    {
      "cell_type": "code",
      "source": [
        "x = well_chosen_function_name(2,2)\n",
        "x"
      ],
      "metadata": {
        "id": "LC8ARnaKut6O",
        "colab": {
          "base_uri": "https://localhost:8080/"
        },
        "outputId": "3c9911b7-e3c6-427a-ae7d-13c759dd1bfe"
      },
      "execution_count": null,
      "outputs": [
        {
          "output_type": "stream",
          "name": "stdout",
          "text": [
            "somethingsomethingsomethingsomething\n"
          ]
        }
      ]
    },
    {
      "cell_type": "code",
      "source": [
        "type(x)"
      ],
      "metadata": {
        "colab": {
          "base_uri": "https://localhost:8080/"
        },
        "id": "Iac9Pi6YAzpi",
        "outputId": "ead22702-6d28-4ca7-f3ce-6627e766ea8c"
      },
      "execution_count": null,
      "outputs": [
        {
          "output_type": "execute_result",
          "data": {
            "text/plain": [
              "NoneType"
            ]
          },
          "metadata": {},
          "execution_count": 44
        }
      ]
    },
    {
      "cell_type": "code",
      "source": [
        "def my_adder(a, b, c):\n",
        "    \"\"\"\n",
        "    function to sum the 3 numbers\n",
        "    Input: 3 numbers a, b, c\n",
        "    Output: the sum of a, b, and c\n",
        "    \"\"\"\n",
        "\n",
        "    # this is the summation\n",
        "    out = a + b + c\n",
        "\n",
        "\n",
        "    return out"
      ],
      "metadata": {
        "id": "WC8UqTpJRR_I"
      },
      "execution_count": null,
      "outputs": []
    },
    {
      "cell_type": "code",
      "source": [
        "?my_adder"
      ],
      "metadata": {
        "id": "rec4Nj-iBKMh"
      },
      "execution_count": null,
      "outputs": []
    },
    {
      "cell_type": "code",
      "source": [
        "# how can i turn this into a function?\n",
        "\n",
        "k = -5\n",
        "def sign(k):\n",
        "  if k > 0: print('Positive')\n",
        "  elif k < 0: print('Negative')\n",
        "  else: print(\"It's Zero\")"
      ],
      "metadata": {
        "id": "XmYDlV11YR2R"
      },
      "execution_count": null,
      "outputs": []
    },
    {
      "cell_type": "code",
      "source": [
        "sign(-10)"
      ],
      "metadata": {
        "colab": {
          "base_uri": "https://localhost:8080/"
        },
        "id": "-LVp90XoB-Sa",
        "outputId": "e3536df4-fe21-4058-96c2-2cc74740ec28"
      },
      "execution_count": null,
      "outputs": [
        {
          "output_type": "stream",
          "name": "stdout",
          "text": [
            "Negative\n"
          ]
        }
      ]
    },
    {
      "cell_type": "markdown",
      "source": [
        "#Data Structures for vectors"
      ],
      "metadata": {
        "id": "CpZm5gOkY6cK"
      }
    },
    {
      "cell_type": "code",
      "source": [
        "t = (1,2,3)\n"
      ],
      "metadata": {
        "id": "xM1RX72AZM_L"
      },
      "execution_count": null,
      "outputs": []
    },
    {
      "cell_type": "code",
      "source": [
        "l = [1,2,3]"
      ],
      "metadata": {
        "id": "GO2YjUkVZRk3"
      },
      "execution_count": null,
      "outputs": []
    },
    {
      "cell_type": "code",
      "source": [
        "t[0] = 100\n",
        "t"
      ],
      "metadata": {
        "colab": {
          "base_uri": "https://localhost:8080/",
          "height": 183
        },
        "id": "eNCka1gXZW1g",
        "outputId": "5b847f48-bc16-4a0a-a04c-290024343ed8"
      },
      "execution_count": null,
      "outputs": [
        {
          "output_type": "error",
          "ename": "TypeError",
          "evalue": "ignored",
          "traceback": [
            "\u001b[0;31m---------------------------------------------------------------------------\u001b[0m",
            "\u001b[0;31mTypeError\u001b[0m                                 Traceback (most recent call last)",
            "\u001b[0;32m<ipython-input-54-9e6713295682>\u001b[0m in \u001b[0;36m<module>\u001b[0;34m\u001b[0m\n\u001b[0;32m----> 1\u001b[0;31m \u001b[0mt\u001b[0m\u001b[0;34m[\u001b[0m\u001b[0;36m0\u001b[0m\u001b[0;34m]\u001b[0m \u001b[0;34m=\u001b[0m \u001b[0;36m100\u001b[0m\u001b[0;34m\u001b[0m\u001b[0;34m\u001b[0m\u001b[0m\n\u001b[0m\u001b[1;32m      2\u001b[0m \u001b[0mt\u001b[0m\u001b[0;34m\u001b[0m\u001b[0;34m\u001b[0m\u001b[0m\n",
            "\u001b[0;31mTypeError\u001b[0m: 'tuple' object does not support item assignment"
          ]
        }
      ]
    },
    {
      "cell_type": "markdown",
      "source": [
        "There are four collection data types in the Python programming language:\n",
        "\n",
        "* **Tuple** is a collection which is ordered and unchangeable. Allows duplicate members.\n",
        "\n",
        "* **List** is a collection which is ordered and changeable. Allows duplicate members.\n",
        "\n",
        "* **Set** is a collection which is unordered, unchangeable*, and unindexed. No duplicate members.\n",
        "\n",
        "* **Dictionary** is a collection which is ordered** and changeable. No duplicate members."
      ],
      "metadata": {
        "id": "5Cqu4abTYRYs"
      }
    },
    {
      "cell_type": "markdown",
      "source": [
        "\n",
        "#Tuples\n",
        "Tuples are used to store multiple items in a single variable.\n",
        "\n",
        "A tuple is a collection which is ordered and unchangeable.\n",
        "\n",
        "Tuples are written with round brackets."
      ],
      "metadata": {
        "id": "OjAAGo2dXLyr"
      }
    },
    {
      "cell_type": "code",
      "source": [
        "tuple1 = (\"apple\", \"banana\", \"cherry\")\n",
        "tuple2 = (1, 5., 7, 9, 3)\n",
        "tuple3 = (True, False, False)\n",
        "\n",
        "tuple4 = (\"abc\", 34, True, 40, \"male\")"
      ],
      "metadata": {
        "id": "GHnL61y_XRVS"
      },
      "execution_count": null,
      "outputs": []
    },
    {
      "cell_type": "markdown",
      "source": [
        "## Two dimensional vectors in python\n",
        "\n",
        "The idea is to play with basic properties of $\\mathbb{R}^2$ understood as a vector space. Its element, say, $(a,b) = v \\in \\mathbb{R}^2$ is called a vector.\n",
        "\n",
        "Even in 2D we can think of $v$ in various ways:\n",
        "- a point in the two-dimensional plane (I'm here, at $v$!);\n",
        "- the displacement between points (if I start here and move by $v$ once, where will I end up?)\n",
        "- a direction (if I move in the direction $v$ for 2 minutes, where will I end up?)\n",
        "\n",
        "We can also measure vectors. The (Euclidean) norm of a vector $v$ measures how far $v$ is from the origin (the zero vector, (0,0))."
      ],
      "metadata": {
        "id": "cDbPf-TbbzTJ"
      }
    },
    {
      "cell_type": "code",
      "source": [
        "point = (1,5)\n",
        "\n",
        "\n",
        "x=point[0]\n",
        "y=point[1]\n",
        "x,y = point #Unpacking the tuple\n",
        "\n",
        "print(\"The first coordinate is:\",x, 'The second coordinate is:',y)"
      ],
      "metadata": {
        "id": "XaLV3WLoXjOI",
        "colab": {
          "base_uri": "https://localhost:8080/"
        },
        "outputId": "f398482e-8f62-4404-d075-406e84620f47"
      },
      "execution_count": null,
      "outputs": [
        {
          "output_type": "stream",
          "name": "stdout",
          "text": [
            "The first coordinate is: 1 The second coordinate is: 5\n"
          ]
        }
      ]
    },
    {
      "cell_type": "markdown",
      "source": [
        "## Distance problem:\n",
        "\n",
        "Write a Python function called 'distance' that takes in two sets of (x, y) coordinates as parameters and returns the distance between them using the distance formula. The distance formula is: d = √((x2-x1)^2 + (y2-y1)^2). Test your function by finding the distance between the points (3, 4) and (0, 0)."
      ],
      "metadata": {
        "id": "73EFJZTzrQGi"
      }
    },
    {
      "cell_type": "code",
      "source": [
        "%%time\n",
        "\n",
        "def distance(point1, point2):\n",
        "    x1 = point1[0]\n",
        "    y1 = point1[1]\n",
        "    x2 = point2[0]\n",
        "    y2 = point2[1]\n",
        "\n",
        "    d = ((x2-x1)**2 + (y2-y1)**2)**(1/2)\n",
        "    return d\n",
        "\n",
        "point1 = (3, 4)\n",
        "point2 = (0, 0)\n",
        "print(distance(point1, point2))"
      ],
      "metadata": {
        "id": "C1Y5VqpZVtHN",
        "colab": {
          "base_uri": "https://localhost:8080/"
        },
        "outputId": "88aee4b5-34cd-4fd1-d05a-0baac0dad69b"
      },
      "execution_count": null,
      "outputs": [
        {
          "output_type": "stream",
          "name": "stdout",
          "text": [
            "5.0\n",
            "CPU times: user 760 µs, sys: 0 ns, total: 760 µs\n",
            "Wall time: 632 µs\n"
          ]
        }
      ]
    },
    {
      "cell_type": "code",
      "source": [
        "math."
      ],
      "metadata": {
        "id": "peUTRMrBEZMh"
      },
      "execution_count": null,
      "outputs": []
    },
    {
      "cell_type": "code",
      "source": [
        "%%time\n",
        "\n",
        "import math\n",
        "\n",
        "def distance(point1, point2):\n",
        "    x1, y1 = point1\n",
        "    x2, y2 = point2\n",
        "    d = math.sqrt((x2-x1)**2 + (y2-y1)**2)\n",
        "    return d\n",
        "\n",
        "point1 = (3, 4)\n",
        "point2 = (0, 0)\n",
        "print(distance(point1, point2))"
      ],
      "metadata": {
        "id": "slj7LwT3VEiG",
        "colab": {
          "base_uri": "https://localhost:8080/"
        },
        "outputId": "b0e58dff-b90e-462e-9d8c-c8a94d0499a5"
      },
      "execution_count": null,
      "outputs": [
        {
          "output_type": "stream",
          "name": "stdout",
          "text": [
            "5.0\n",
            "CPU times: user 1.81 ms, sys: 0 ns, total: 1.81 ms\n",
            "Wall time: 1.81 ms\n"
          ]
        }
      ]
    },
    {
      "cell_type": "code",
      "source": [
        "math.dist((3,4),(0,0))"
      ],
      "metadata": {
        "id": "D9D8kyiBWJdw"
      },
      "execution_count": null,
      "outputs": []
    },
    {
      "cell_type": "code",
      "source": [
        "!pip install yfinance"
      ],
      "metadata": {
        "colab": {
          "base_uri": "https://localhost:8080/",
          "height": 991
        },
        "id": "FYXveJdnFlEQ",
        "outputId": "c951da13-8279-4656-f28f-28460b631027"
      },
      "execution_count": null,
      "outputs": [
        {
          "output_type": "stream",
          "name": "stdout",
          "text": [
            "Looking in indexes: https://pypi.org/simple, https://us-python.pkg.dev/colab-wheels/public/simple/\n",
            "Collecting yfinance\n",
            "  Downloading yfinance-0.2.4-py2.py3-none-any.whl (51 kB)\n",
            "\u001b[2K     \u001b[90m━━━━━━━━━━━━━━━━━━━━━━━━━━━━━━━━━━━━━━━━\u001b[0m \u001b[32m51.4/51.4 KB\u001b[0m \u001b[31m2.8 MB/s\u001b[0m eta \u001b[36m0:00:00\u001b[0m\n",
            "\u001b[?25hRequirement already satisfied: multitasking>=0.0.7 in /usr/local/lib/python3.8/dist-packages (from yfinance) (0.0.11)\n",
            "Requirement already satisfied: pytz>=2022.5 in /usr/local/lib/python3.8/dist-packages (from yfinance) (2022.7)\n",
            "Requirement already satisfied: pandas>=1.3.0 in /usr/local/lib/python3.8/dist-packages (from yfinance) (1.3.5)\n",
            "Requirement already satisfied: numpy>=1.16.5 in /usr/local/lib/python3.8/dist-packages (from yfinance) (1.21.6)\n",
            "Collecting html5lib>=1.1\n",
            "  Downloading html5lib-1.1-py2.py3-none-any.whl (112 kB)\n",
            "\u001b[2K     \u001b[90m━━━━━━━━━━━━━━━━━━━━━━━━━━━━━━━━━━━━━━━\u001b[0m \u001b[32m112.2/112.2 KB\u001b[0m \u001b[31m6.7 MB/s\u001b[0m eta \u001b[36m0:00:00\u001b[0m\n",
            "\u001b[?25hCollecting beautifulsoup4>=4.11.1\n",
            "  Downloading beautifulsoup4-4.11.1-py3-none-any.whl (128 kB)\n",
            "\u001b[2K     \u001b[90m━━━━━━━━━━━━━━━━━━━━━━━━━━━━━━━━━━━━━━\u001b[0m \u001b[32m128.2/128.2 KB\u001b[0m \u001b[31m12.2 MB/s\u001b[0m eta \u001b[36m0:00:00\u001b[0m\n",
            "\u001b[?25hCollecting cryptography>=3.3.2\n",
            "  Downloading cryptography-39.0.0-cp36-abi3-manylinux_2_24_x86_64.whl (4.1 MB)\n",
            "\u001b[2K     \u001b[90m━━━━━━━━━━━━━━━━━━━━━━━━━━━━━━━━━━━━━━━━\u001b[0m \u001b[32m4.1/4.1 MB\u001b[0m \u001b[31m43.8 MB/s\u001b[0m eta \u001b[36m0:00:00\u001b[0m\n",
            "\u001b[?25hCollecting frozendict>=2.3.4\n",
            "  Downloading frozendict-2.3.4-cp38-cp38-manylinux_2_17_x86_64.manylinux2014_x86_64.whl (110 kB)\n",
            "\u001b[2K     \u001b[90m━━━━━━━━━━━━━━━━━━━━━━━━━━━━━━━━━━━━━━\u001b[0m \u001b[32m111.0/111.0 KB\u001b[0m \u001b[31m11.7 MB/s\u001b[0m eta \u001b[36m0:00:00\u001b[0m\n",
            "\u001b[?25hCollecting requests>=2.26\n",
            "  Downloading requests-2.28.2-py3-none-any.whl (62 kB)\n",
            "\u001b[2K     \u001b[90m━━━━━━━━━━━━━━━━━━━━━━━━━━━━━━━━━━━━━━━━\u001b[0m \u001b[32m62.8/62.8 KB\u001b[0m \u001b[31m7.0 MB/s\u001b[0m eta \u001b[36m0:00:00\u001b[0m\n",
            "\u001b[?25hRequirement already satisfied: lxml>=4.9.1 in /usr/local/lib/python3.8/dist-packages (from yfinance) (4.9.2)\n",
            "Requirement already satisfied: appdirs>=1.4.4 in /usr/local/lib/python3.8/dist-packages (from yfinance) (1.4.4)\n",
            "Collecting soupsieve>1.2\n",
            "  Downloading soupsieve-2.3.2.post1-py3-none-any.whl (37 kB)\n",
            "Requirement already satisfied: cffi>=1.12 in /usr/local/lib/python3.8/dist-packages (from cryptography>=3.3.2->yfinance) (1.15.1)\n",
            "Requirement already satisfied: six>=1.9 in /usr/local/lib/python3.8/dist-packages (from html5lib>=1.1->yfinance) (1.15.0)\n",
            "Requirement already satisfied: webencodings in /usr/local/lib/python3.8/dist-packages (from html5lib>=1.1->yfinance) (0.5.1)\n",
            "Requirement already satisfied: python-dateutil>=2.7.3 in /usr/local/lib/python3.8/dist-packages (from pandas>=1.3.0->yfinance) (2.8.2)\n",
            "Requirement already satisfied: certifi>=2017.4.17 in /usr/local/lib/python3.8/dist-packages (from requests>=2.26->yfinance) (2022.12.7)\n",
            "Requirement already satisfied: charset-normalizer<4,>=2 in /usr/local/lib/python3.8/dist-packages (from requests>=2.26->yfinance) (2.1.1)\n",
            "Requirement already satisfied: idna<4,>=2.5 in /usr/local/lib/python3.8/dist-packages (from requests>=2.26->yfinance) (2.10)\n",
            "Requirement already satisfied: urllib3<1.27,>=1.21.1 in /usr/local/lib/python3.8/dist-packages (from requests>=2.26->yfinance) (1.24.3)\n",
            "Requirement already satisfied: pycparser in /usr/local/lib/python3.8/dist-packages (from cffi>=1.12->cryptography>=3.3.2->yfinance) (2.21)\n",
            "Installing collected packages: soupsieve, requests, html5lib, frozendict, cryptography, beautifulsoup4, yfinance\n",
            "  Attempting uninstall: requests\n",
            "    Found existing installation: requests 2.25.1\n",
            "    Uninstalling requests-2.25.1:\n",
            "      Successfully uninstalled requests-2.25.1\n",
            "  Attempting uninstall: html5lib\n",
            "    Found existing installation: html5lib 1.0.1\n",
            "    Uninstalling html5lib-1.0.1:\n",
            "      Successfully uninstalled html5lib-1.0.1\n",
            "  Attempting uninstall: beautifulsoup4\n",
            "    Found existing installation: beautifulsoup4 4.6.3\n",
            "    Uninstalling beautifulsoup4-4.6.3:\n",
            "      Successfully uninstalled beautifulsoup4-4.6.3\n",
            "Successfully installed beautifulsoup4-4.11.1 cryptography-39.0.0 frozendict-2.3.4 html5lib-1.1 requests-2.28.2 soupsieve-2.3.2.post1 yfinance-0.2.4\n"
          ]
        },
        {
          "output_type": "display_data",
          "data": {
            "application/vnd.colab-display-data+json": {
              "pip_warning": {
                "packages": [
                  "requests"
                ]
              }
            }
          },
          "metadata": {}
        }
      ]
    },
    {
      "cell_type": "markdown",
      "source": [
        "# Lists\n",
        "\n",
        "So far if we wanted to have a variable, we had to define it seperately. So if we wanted, say, 100 variables, we would have to come up with 100 names and write everything by hand. But we say: no more!"
      ],
      "metadata": {
        "id": "av-qo2f4gIE-"
      }
    },
    {
      "cell_type": "code",
      "source": [
        "my_list = [2,3,5,8]\n",
        "print(my_list)"
      ],
      "metadata": {
        "id": "ZFJplIGzffsY",
        "colab": {
          "base_uri": "https://localhost:8080/"
        },
        "outputId": "18b77f48-507e-4b19-c31c-ead5eb8a1505"
      },
      "execution_count": null,
      "outputs": [
        {
          "output_type": "stream",
          "name": "stdout",
          "text": [
            "[2, 3, 5, 8]\n"
          ]
        }
      ]
    },
    {
      "cell_type": "code",
      "source": [
        "print(type(my_list)) # it is actually a list"
      ],
      "metadata": {
        "id": "g2wsQ1QCXYZQ",
        "colab": {
          "base_uri": "https://localhost:8080/"
        },
        "outputId": "a39fa738-f5ee-4ade-c4b8-3ca478fdbed1"
      },
      "execution_count": null,
      "outputs": [
        {
          "output_type": "stream",
          "name": "stdout",
          "text": [
            "<class 'list'>\n"
          ]
        }
      ]
    },
    {
      "cell_type": "markdown",
      "source": [
        "## Length of the list and checking for non-emptiness"
      ],
      "metadata": {
        "id": "xPWj1fwoZNtP"
      }
    },
    {
      "cell_type": "code",
      "source": [
        "print(len(my_list))"
      ],
      "metadata": {
        "id": "t5qBWaK8wiBV",
        "colab": {
          "base_uri": "https://localhost:8080/"
        },
        "outputId": "0f36bf8c-131f-425f-f78d-be831bec1741"
      },
      "execution_count": null,
      "outputs": [
        {
          "output_type": "stream",
          "name": "stdout",
          "text": [
            "4\n"
          ]
        }
      ]
    },
    {
      "cell_type": "code",
      "source": [
        "if my_list:\n",
        "  print('this list is nonempty')\n",
        "else:\n",
        "  print('oops, this list is empty')"
      ],
      "metadata": {
        "id": "erfnIQMEwrIy",
        "colab": {
          "base_uri": "https://localhost:8080/"
        },
        "outputId": "440644e6-f89a-4ebb-e119-b1bb1d09ba2d"
      },
      "execution_count": null,
      "outputs": [
        {
          "output_type": "stream",
          "name": "stdout",
          "text": [
            "this list is nonempty\n"
          ]
        }
      ]
    },
    {
      "cell_type": "markdown",
      "source": [
        "##Generating large lists (of equal elements)"
      ],
      "metadata": {
        "id": "3wTO6b-xVYTN"
      }
    },
    {
      "cell_type": "code",
      "source": [
        "my_long_list = [0,1]*10 # !\n",
        "my_long_list"
      ],
      "metadata": {
        "id": "pURfoAsxwdZa",
        "colab": {
          "base_uri": "https://localhost:8080/"
        },
        "outputId": "29a279ed-8108-4800-b186-461394a5f90a"
      },
      "execution_count": null,
      "outputs": [
        {
          "output_type": "execute_result",
          "data": {
            "text/plain": [
              "[0, 1, 0, 1, 0, 1, 0, 1, 0, 1, 0, 1, 0, 1, 0, 1, 0, 1, 0, 1]"
            ]
          },
          "metadata": {},
          "execution_count": 76
        }
      ]
    },
    {
      "cell_type": "markdown",
      "source": [
        "## Accessing elements"
      ],
      "metadata": {
        "id": "iMarjaGiVRFn"
      }
    },
    {
      "cell_type": "code",
      "source": [
        "# we can index the list, starting from 0 (as it should be)\n",
        "my_list = [2,3,5,8]\n",
        "\n",
        "print(my_list[2])"
      ],
      "metadata": {
        "collapsed": true,
        "id": "ZN_1XAYxJ2Hz",
        "colab": {
          "base_uri": "https://localhost:8080/"
        },
        "outputId": "d0aaa464-4bf4-4e8b-8b33-cc60b2215ced"
      },
      "execution_count": null,
      "outputs": [
        {
          "output_type": "stream",
          "name": "stdout",
          "text": [
            "5\n"
          ]
        }
      ]
    },
    {
      "cell_type": "code",
      "source": [
        "my_list[0] += 2\n",
        "print(my_list)"
      ],
      "metadata": {
        "id": "QYzEaY8jjrbZ",
        "colab": {
          "base_uri": "https://localhost:8080/"
        },
        "outputId": "9df708a8-91bd-4911-ee34-f58444d66a33"
      },
      "execution_count": null,
      "outputs": [
        {
          "output_type": "stream",
          "name": "stdout",
          "text": [
            "[4, 3, 5, 8]\n"
          ]
        }
      ]
    },
    {
      "cell_type": "code",
      "source": [
        "# ?? what would happen if you tried to access, say,  my_list[1000], my_list[-1]?\n",
        "# try it out!"
      ],
      "metadata": {
        "id": "YQ7moWODJiAq"
      },
      "execution_count": null,
      "outputs": []
    },
    {
      "cell_type": "code",
      "source": [
        "my_list[-4]\n",
        "my_list[-3]\n",
        "my_list[-2]\n",
        "my_list[-1]"
      ],
      "metadata": {
        "colab": {
          "base_uri": "https://localhost:8080/",
          "height": 131
        },
        "id": "LeTkcTsLcJpv",
        "outputId": "e5976c6d-18e8-4fde-ba1f-e2ca71d5d3e6"
      },
      "execution_count": null,
      "outputs": [
        {
          "output_type": "error",
          "ename": "SyntaxError",
          "evalue": "ignored",
          "traceback": [
            "\u001b[0;36m  File \u001b[0;32m\"<ipython-input-95-07bff207c576>\"\u001b[0;36m, line \u001b[0;32m1\u001b[0m\n\u001b[0;31m    my_list[-4]my_list[-4]\u001b[0m\n\u001b[0m               ^\u001b[0m\n\u001b[0;31mSyntaxError\u001b[0m\u001b[0;31m:\u001b[0m invalid syntax\n"
          ]
        }
      ]
    },
    {
      "cell_type": "markdown",
      "source": [
        "## Adding elements\n",
        "\n",
        "Note that we use a **new syntax**: my_list.function_name(argument1, argument2) . For now we can think of this as eqivallent to function_name(my_list, argument1, argument2)\n",
        "\n",
        "Here we use the function, or more technically: a **method** called **append** which adds an element to the end of the list.\n",
        "\n",
        "You can easily get information on *all the methods* available for lists by calling help(list), or help(my_list) if you have one concrete list handy. Similar for other types.\n",
        "\n",
        "\n"
      ],
      "metadata": {
        "id": "1TEsjYTFVS_Q"
      }
    },
    {
      "cell_type": "code",
      "source": [
        "my_list"
      ],
      "metadata": {
        "colab": {
          "base_uri": "https://localhost:8080/"
        },
        "id": "2Iyc1RXgIrq9",
        "outputId": "dacd773c-71a5-47fe-9ecc-c3d92a1bda5f"
      },
      "execution_count": null,
      "outputs": [
        {
          "output_type": "execute_result",
          "data": {
            "text/plain": [
              "[4, 3, 5, 8]"
            ]
          },
          "metadata": {},
          "execution_count": 96
        }
      ]
    },
    {
      "cell_type": "code",
      "source": [
        "my_list.append(13) # we can think about 'append' as a function working on my_list\n",
        "print(my_list)"
      ],
      "metadata": {
        "id": "Uh8CdHsLfll0",
        "colab": {
          "base_uri": "https://localhost:8080/"
        },
        "outputId": "67a73481-4e26-44ad-f36f-7b2c2bc850d6"
      },
      "execution_count": null,
      "outputs": [
        {
          "output_type": "stream",
          "name": "stdout",
          "text": [
            "[4, 3, 5, 8, 13]\n"
          ]
        }
      ]
    },
    {
      "cell_type": "markdown",
      "source": [
        "##Danger!\n",
        "\n",
        "Decide what your expectation is before running! Are you surprised?"
      ],
      "metadata": {
        "id": "SG_wp4JovDuQ"
      }
    },
    {
      "cell_type": "code",
      "source": [
        "#\n",
        "a = 0\n",
        "b = 1\n",
        "b = a\n",
        "a = 3\n",
        "print(\"nothing unexpected here:\",a,b)"
      ],
      "metadata": {
        "id": "sfOfpEJHvPjQ",
        "colab": {
          "base_uri": "https://localhost:8080/"
        },
        "outputId": "ca4dccf6-8503-4f21-f502-16641525cb32"
      },
      "execution_count": null,
      "outputs": [
        {
          "output_type": "stream",
          "name": "stdout",
          "text": [
            "nothing unexpected here: 3 0\n"
          ]
        }
      ]
    },
    {
      "cell_type": "code",
      "source": [
        "a = [1,2,3]\n",
        "b = [0]\n",
        "b = a\n",
        "\n",
        "a[0] = 777\n",
        "\n",
        "print(a,b) # <- what do you expect here?"
      ],
      "metadata": {
        "id": "JlvLJ8iSvE3w",
        "colab": {
          "base_uri": "https://localhost:8080/"
        },
        "outputId": "3b3982f4-9209-4ee9-c686-464930281eb2"
      },
      "execution_count": null,
      "outputs": [
        {
          "output_type": "stream",
          "name": "stdout",
          "text": [
            "[777, 2, 3] [777, 2, 3]\n"
          ]
        }
      ]
    },
    {
      "cell_type": "code",
      "source": [
        "a = np.array([1,2,3])\n",
        "b = np.array([0])\n",
        "b = a\n",
        "\n",
        "a[0] = 777\n",
        "\n",
        "print(a,b) # <- what do you expect here?"
      ],
      "metadata": {
        "id": "rg2wGkLmRm9e",
        "outputId": "98d11d68-8dc9-412b-f197-326587a3187c",
        "colab": {
          "base_uri": "https://localhost:8080/"
        }
      },
      "execution_count": null,
      "outputs": [
        {
          "output_type": "stream",
          "name": "stdout",
          "text": [
            "[777   2   3] [777   2   3]\n"
          ]
        }
      ]
    },
    {
      "cell_type": "code",
      "source": [
        "def change_number(my_num):\n",
        "  my_num += 10\n",
        "  print('number inside:', my_num)\n",
        "\n",
        "\n",
        "a = 5\n",
        "change_number(a)\n",
        "print('number outside', a)"
      ],
      "metadata": {
        "id": "uO9acgblVkN8",
        "colab": {
          "base_uri": "https://localhost:8080/"
        },
        "outputId": "e95dc8d4-7de8-415b-8698-96c54e97b2cc"
      },
      "execution_count": null,
      "outputs": [
        {
          "output_type": "stream",
          "name": "stdout",
          "text": [
            "number inside: 15\n",
            "number outside 5\n"
          ]
        }
      ]
    },
    {
      "cell_type": "code",
      "source": [
        "def change_list(my_list):\n",
        "  my_list[0] += 10\n",
        "  my_list = [20,30,40] #local variable\n",
        "  print('list inside:', my_list)\n",
        "\n",
        "\n",
        "L = [1,2,3]\n",
        "change_list(L)\n",
        "print('list outside:', L)"
      ],
      "metadata": {
        "id": "Sn0D2RU7WDc4",
        "colab": {
          "base_uri": "https://localhost:8080/"
        },
        "outputId": "5a62e550-a783-4904-cdfd-d4afb8b12c7d"
      },
      "execution_count": null,
      "outputs": [
        {
          "output_type": "stream",
          "name": "stdout",
          "text": [
            "list inside: [20, 30, 40]\n",
            "list outside: [11, 2, 3]\n"
          ]
        }
      ]
    },
    {
      "cell_type": "markdown",
      "source": [
        "#Iteration\n",
        "\n",
        "So far every expression was done once. So if we need to do something 100 times, we pretty much had to write it out 100 times."
      ],
      "metadata": {
        "id": "b7uX_1H1yhLa"
      }
    },
    {
      "cell_type": "code",
      "source": [
        "my_list = [6,5,4,3,4,5]\n",
        "\n",
        "# iterating over lists!\n",
        "for elem in my_list:\n",
        "  print(elem)\n",
        "\n",
        "# BTW: to appreciate it, compare with a related C++ (pre-C++11) version:\n",
        "# for (std::vector<int>::const_iterator it = v.begin(); it != v.end(); ++it)\n",
        "#   std::cout << *it*2 << std::endl;"
      ],
      "metadata": {
        "id": "w51PiagIfqr9",
        "colab": {
          "base_uri": "https://localhost:8080/"
        },
        "outputId": "7b6bfbc1-3d1a-4054-bb10-feb1f0db3fdc"
      },
      "execution_count": null,
      "outputs": [
        {
          "output_type": "stream",
          "name": "stdout",
          "text": [
            "6\n",
            "5\n",
            "4\n",
            "3\n",
            "4\n",
            "5\n"
          ]
        }
      ]
    },
    {
      "cell_type": "markdown",
      "source": [
        "## range : useful for iteration!\n",
        "\n",
        "You can think (for now) that range(7) is just a list of numbers (integers) 0,1,...,6\n",
        "\n",
        "You can also write range(3,6), to specify the lower end."
      ],
      "metadata": {
        "id": "w-_xYVRcdCER"
      }
    },
    {
      "cell_type": "code",
      "source": [
        "for i in range(-1):\n",
        "  print(i)"
      ],
      "metadata": {
        "id": "cV79r-HIK1Oh"
      },
      "execution_count": null,
      "outputs": []
    },
    {
      "cell_type": "code",
      "source": [
        "# will even use this syntax to iterate over 0,1,2,3...\n",
        "\n",
        "for x in range(7):\n",
        "  print(x)"
      ],
      "metadata": {
        "id": "ETOv9pLgIblt"
      },
      "execution_count": null,
      "outputs": []
    },
    {
      "cell_type": "markdown",
      "source": [
        "The above is  is a recommended (pythonic) version of C++'s\n",
        "for (size_t i = 0; i < 7; i++) ...\n",
        "\n",
        "But we will rarery use such loops. Whenever possble we iteratre over the list (or other container) directly, or use the below nice things."
      ],
      "metadata": {
        "id": "m9lcrIXBYUI3"
      }
    },
    {
      "cell_type": "markdown",
      "source": [
        "## enumerate and zip: you'll wish you had it in C++"
      ],
      "metadata": {
        "id": "nzaMWVKAVmGi"
      }
    },
    {
      "cell_type": "code",
      "source": [
        "# gives you index, and value for each\n",
        "for index, value in enumerate(my_list):\n",
        "  print(index, value)"
      ],
      "metadata": {
        "id": "GPy28_qUVsy_"
      },
      "execution_count": null,
      "outputs": []
    },
    {
      "cell_type": "code",
      "source": [
        "# zip(A,B) allows you to iterate over pairs (A[0], B[0]), (A[1], B[1])\n",
        "other_list = [2017, 2022, 1985]\n",
        "for a,b in zip(my_list, other_list):\n",
        "  print(a,b)"
      ],
      "metadata": {
        "id": "IuRTgdr4Vx8-"
      },
      "execution_count": null,
      "outputs": []
    },
    {
      "cell_type": "markdown",
      "source": [
        "## Exercises (define a function for each)\n",
        "\n",
        "- print the even numbers between [0 and n]\n",
        "\n",
        "- given a list of numbers, returns its maximum value\n",
        "\n",
        "- given a list of numbers, return a index of the maximum value\n",
        "\n",
        "- given a natural number $k$, prints all of its divisors (hint: %)\n",
        "\n",
        "- given a natural number $k$, decide if its a prime number\n",
        "\n",
        "- given a number $n$ decide how many numbers in between [0 and n] are perfect squares (a square of a natural number; 1 and 25 are; 2 and 26 aren't)\n"
      ],
      "metadata": {
        "id": "LEvOAd3Xcflu"
      }
    },
    {
      "cell_type": "code",
      "source": [
        "def even_nums(n):\n",
        "  for i in range(n//2+1):\n",
        "    print(2*i)\n",
        "\n",
        "even_nums(10)"
      ],
      "metadata": {
        "colab": {
          "base_uri": "https://localhost:8080/"
        },
        "id": "FA1dIwF3eSDN",
        "outputId": "587fcfd4-d09c-4390-c959-86cb01828b36"
      },
      "execution_count": null,
      "outputs": [
        {
          "output_type": "stream",
          "name": "stdout",
          "text": [
            "0\n",
            "2\n",
            "4\n",
            "6\n",
            "8\n",
            "10\n"
          ]
        }
      ]
    },
    {
      "cell_type": "code",
      "source": [
        "n = 10\n",
        "\n",
        "def even_numbers( n ):\n",
        "  '''\n",
        "  prints out all even numbers up to n\n",
        "  '''\n",
        "  for i in range(n+1):\n",
        "      yoo = 10\n",
        "      if i % 2 == 0:\n",
        "          print(i)\n",
        "\n",
        "even_numbers(11)"
      ],
      "metadata": {
        "colab": {
          "base_uri": "https://localhost:8080/"
        },
        "id": "8LpaOZV4fS0_",
        "outputId": "5e7af255-4f83-4e1f-828e-6d38168933b5"
      },
      "execution_count": null,
      "outputs": [
        {
          "output_type": "stream",
          "name": "stdout",
          "text": [
            "0\n",
            "2\n",
            "4\n",
            "6\n",
            "8\n",
            "10\n"
          ]
        }
      ]
    },
    {
      "cell_type": "code",
      "source": [
        "for i in range(n+1):\n",
        "      yoo = 10\n",
        "      if i % 2 == 0:\n",
        "          print(i)"
      ],
      "metadata": {
        "colab": {
          "base_uri": "https://localhost:8080/"
        },
        "id": "IDIXfQvUL6vA",
        "outputId": "de12008c-bc55-4e9e-bcf4-fa52cd5788e2"
      },
      "execution_count": null,
      "outputs": [
        {
          "output_type": "stream",
          "name": "stdout",
          "text": [
            "0\n",
            "2\n",
            "4\n",
            "6\n",
            "8\n",
            "10\n"
          ]
        }
      ]
    },
    {
      "cell_type": "code",
      "source": [
        "yoo"
      ],
      "metadata": {
        "colab": {
          "base_uri": "https://localhost:8080/"
        },
        "id": "nftH98kTMDUO",
        "outputId": "440eab69-78fd-4bac-ee12-da325607bd46"
      },
      "execution_count": null,
      "outputs": [
        {
          "output_type": "execute_result",
          "data": {
            "text/plain": [
              "10"
            ]
          },
          "metadata": {},
          "execution_count": 122
        }
      ]
    },
    {
      "cell_type": "code",
      "source": [
        "n = 10\n",
        "even_numbers = [x for x in range(n+1) if x % 2 == 0]\n",
        "print(even_numbers)"
      ],
      "metadata": {
        "colab": {
          "base_uri": "https://localhost:8080/"
        },
        "id": "QIEi1tD6fJ3e",
        "outputId": "1a8b7124-5bbd-4c68-b139-726cb22b7d34"
      },
      "execution_count": null,
      "outputs": [
        {
          "output_type": "stream",
          "name": "stdout",
          "text": [
            "[0, 2, 4, 6, 8, 10]\n"
          ]
        }
      ]
    },
    {
      "cell_type": "code",
      "source": [
        "type(rang)"
      ],
      "metadata": {
        "colab": {
          "base_uri": "https://localhost:8080/"
        },
        "id": "gWgpl04BMepQ",
        "outputId": "36dc1f8b-ee1f-4b0c-a926-c147c931995d"
      },
      "execution_count": null,
      "outputs": [
        {
          "output_type": "execute_result",
          "data": {
            "text/plain": [
              "type"
            ]
          },
          "metadata": {},
          "execution_count": 133
        }
      ]
    },
    {
      "cell_type": "code",
      "source": [
        "for i in range(10,-10,-2):\n",
        "  print(i)"
      ],
      "metadata": {
        "colab": {
          "base_uri": "https://localhost:8080/"
        },
        "id": "ZCqnTQYwMjfq",
        "outputId": "6afa9fc3-5dd8-4c9f-8cb7-0e71567d2143"
      },
      "execution_count": null,
      "outputs": [
        {
          "output_type": "stream",
          "name": "stdout",
          "text": [
            "10\n",
            "8\n",
            "6\n",
            "4\n",
            "2\n",
            "0\n",
            "-2\n",
            "-4\n",
            "-6\n",
            "-8\n"
          ]
        }
      ]
    },
    {
      "cell_type": "code",
      "source": [],
      "metadata": {
        "id": "h55U-NXIMwix"
      },
      "execution_count": null,
      "outputs": []
    },
    {
      "cell_type": "code",
      "source": [
        "import numpy as np\n",
        "\n",
        "xs = np.linspace(0,10,101)\n",
        "ys = np.sin(xs)\n",
        "\n",
        "import matplotlib.pyplot as plt\n",
        "plt.plot(xs,ys)"
      ],
      "metadata": {
        "colab": {
          "base_uri": "https://localhost:8080/",
          "height": 282
        },
        "id": "OHguyiybMjWl",
        "outputId": "de6ae9fd-5f98-4c1c-d0a1-c00cf0ec50ed"
      },
      "execution_count": null,
      "outputs": [
        {
          "output_type": "execute_result",
          "data": {
            "text/plain": [
              "[<matplotlib.lines.Line2D at 0x7fed41ef3610>]"
            ]
          },
          "metadata": {},
          "execution_count": 139
        },
        {
          "output_type": "display_data",
          "data": {
            "text/plain": [
              "<Figure size 432x288 with 1 Axes>"
            ],
            "image/png": "[encoded data removed]"
          },
          "metadata": {
            "needs_background": "light"
          }
        }
      ]
    },
    {
      "cell_type": "code",
      "source": [
        "type(xs)"
      ],
      "metadata": {
        "colab": {
          "base_uri": "https://localhost:8080/"
        },
        "id": "W34s3G3XNsqE",
        "outputId": "500e7ffc-d755-4f4a-fc73-9f679290ca64"
      },
      "execution_count": null,
      "outputs": [
        {
          "output_type": "execute_result",
          "data": {
            "text/plain": [
              "numpy.ndarray"
            ]
          },
          "metadata": {},
          "execution_count": 140
        }
      ]
    },
    {
      "cell_type": "markdown",
      "source": [
        "## Finish the first task at home (and try the second if possible)"
      ],
      "metadata": {
        "id": "jGk2EE9GNfud"
      }
    },
    {
      "cell_type": "markdown",
      "source": [
        "## Task\n",
        "\n",
        "Implement the following python functions. You can use two-element lists to store each vector.\n",
        "\n",
        "Please use only the python 'tools' we covered so far, in particular no numpy.\n",
        "\n",
        "Test each of the functions using a simple example for which you know the answer. (Hint: assert statement is useful for quick tests. E.g. assert 1+1==2)\n",
        "\n",
        "- vec(a,b) - creates vector (a,b) (please use this function whenever you create a vector!)\n",
        "- add(u,v) - adds two vectors\n",
        "- sub(u,v) - subtracts two vectors\n",
        "- mul(u, c) - multiplies the vector by a scalar (number)\n",
        "- norm(u) - returns the Euclidean norm (distance from the origin)\n",
        "- dist(u,v) - returns the Euclidean distance between points u and v\n",
        "\n"
      ],
      "metadata": {
        "id": "tJC3CD9Mdl4n"
      }
    },
    {
      "cell_type": "markdown",
      "source": [
        "#Basics of NumPy (**Num**erical **Py**thon)"
      ],
      "metadata": {
        "id": "Dm4GCG4Ygqfb"
      }
    },
    {
      "cell_type": "markdown",
      "source": [
        "NumPy ('num-pie' not 'num-pee'!) is a library for vector (matrix/tensor) computations modelled after matlab. (Handling vectors is one of the two good things about matlab).\n",
        "\n",
        "1) We first go through very basic structures (arrays) and some operations:\n",
        "\n",
        "- np.array, *, +, len\n",
        "- adding a scalar, multiplying by another vector\n",
        "- np.zeros, np.ones\n",
        "- np.linspace (also on vectors)\n",
        "- np.sin, np.cos, np.sqrt, np.log...\n",
        "- np.pi\n",
        "- np.concatenate\n",
        "\n"
      ],
      "metadata": {
        "id": "MtZW7BJsfOoX"
      }
    },
    {
      "cell_type": "code",
      "source": [
        "import numpy as np # we import the numpy package and give it an alias (name)\n",
        "\n",
        "np.pi"
      ],
      "metadata": {
        "id": "KQw3eDa9e6qP",
        "colab": {
          "base_uri": "https://localhost:8080/"
        },
        "outputId": "937038a2-5ba8-4aa5-d862-da115e96a729"
      },
      "execution_count": null,
      "outputs": [
        {
          "output_type": "execute_result",
          "data": {
            "text/plain": [
              "3.141592653589793"
            ]
          },
          "metadata": {},
          "execution_count": 141
        }
      ]
    },
    {
      "cell_type": "code",
      "source": [
        "np.exp(1)"
      ],
      "metadata": {
        "colab": {
          "base_uri": "https://localhost:8080/"
        },
        "id": "H3GD9aQpOk5q",
        "outputId": "4ec0fbb0-0955-452f-c521-5096506dfabb"
      },
      "execution_count": null,
      "outputs": [
        {
          "output_type": "execute_result",
          "data": {
            "text/plain": [
              "2.718281828459045"
            ]
          },
          "metadata": {},
          "execution_count": 147
        }
      ]
    },
    {
      "cell_type": "code",
      "source": [
        "list1 = [1,2,3,5]\n",
        "list2 = [2,3,5,6]\n",
        "\n",
        "print(sum(list1))\n",
        "print(list1+list2) #concats"
      ],
      "metadata": {
        "colab": {
          "base_uri": "https://localhost:8080/"
        },
        "id": "GelCVUz6hzWD",
        "outputId": "95ef5eac-2f75-4e19-90b1-81bdba79f730"
      },
      "execution_count": null,
      "outputs": [
        {
          "output_type": "stream",
          "name": "stdout",
          "text": [
            "11\n",
            "[1, 2, 3, 5, 2, 3, 5, 6]\n"
          ]
        }
      ]
    },
    {
      "cell_type": "code",
      "source": [
        "list1*=2\n",
        "list1"
      ],
      "metadata": {
        "colab": {
          "base_uri": "https://localhost:8080/"
        },
        "id": "XLoz3gWxkY3P",
        "outputId": "2f27dba6-ac06-4e17-a881-1ce6ce7f6649"
      },
      "execution_count": null,
      "outputs": [
        {
          "output_type": "execute_result",
          "data": {
            "text/plain": [
              "[1, 2, 3, 5, 1, 2, 3, 5]"
            ]
          },
          "metadata": {},
          "execution_count": 149
        }
      ]
    },
    {
      "cell_type": "code",
      "source": [
        "list1 = [1,2,3,5]\n",
        "print(list1*=2)"
      ],
      "metadata": {
        "colab": {
          "base_uri": "https://localhost:8080/",
          "height": 131
        },
        "id": "6R44JjEVkeYo",
        "outputId": "0d037143-45c3-4073-985e-ddf95d061a26"
      },
      "execution_count": null,
      "outputs": [
        {
          "output_type": "error",
          "ename": "SyntaxError",
          "evalue": "ignored",
          "traceback": [
            "\u001b[0;36m  File \u001b[0;32m\"<ipython-input-150-8983a74dab30>\"\u001b[0;36m, line \u001b[0;32m2\u001b[0m\n\u001b[0;31m    print(list1*=2)\u001b[0m\n\u001b[0m               ^\u001b[0m\n\u001b[0;31mSyntaxError\u001b[0m\u001b[0;31m:\u001b[0m invalid syntax\n"
          ]
        }
      ]
    },
    {
      "cell_type": "code",
      "source": [
        "u = np.array([1,2,3,5]) #or np.array(list1)\n",
        "v = np.array([2,3,5,6]) #or np.array(list2)\n",
        "\n",
        "\n",
        "print(sum(u))\n",
        "\n",
        "print(u + v)\n",
        "type(u+v)"
      ],
      "metadata": {
        "colab": {
          "base_uri": "https://localhost:8080/"
        },
        "id": "YId6ypUB74vL",
        "outputId": "28be6393-7906-4492-98c5-3be0b72151da"
      },
      "execution_count": null,
      "outputs": [
        {
          "output_type": "stream",
          "name": "stdout",
          "text": [
            "11\n",
            "[ 3  5  8 11]\n"
          ]
        },
        {
          "output_type": "execute_result",
          "data": {
            "text/plain": [
              "numpy.ndarray"
            ]
          },
          "metadata": {},
          "execution_count": 153
        }
      ]
    },
    {
      "cell_type": "code",
      "source": [
        "#use the correct functions for the correct data type\n",
        "\n",
        "u = np.array([1,2,3,5])\n",
        "v = np.array([2,3,5,6])\n",
        "sum(3.,4.)"
      ],
      "metadata": {
        "colab": {
          "base_uri": "https://localhost:8080/",
          "height": 201
        },
        "id": "qI-HFTzEjiQF",
        "outputId": "4015489a-68d0-4adf-941b-89b81150dda2"
      },
      "execution_count": null,
      "outputs": [
        {
          "output_type": "error",
          "ename": "TypeError",
          "evalue": "ignored",
          "traceback": [
            "\u001b[0;31m---------------------------------------------------------------------------\u001b[0m",
            "\u001b[0;31mTypeError\u001b[0m                                 Traceback (most recent call last)",
            "\u001b[0;32m<ipython-input-156-c2b04f112134>\u001b[0m in \u001b[0;36m<module>\u001b[0;34m\u001b[0m\n\u001b[1;32m      3\u001b[0m \u001b[0mu\u001b[0m \u001b[0;34m=\u001b[0m \u001b[0mnp\u001b[0m\u001b[0;34m.\u001b[0m\u001b[0marray\u001b[0m\u001b[0;34m(\u001b[0m\u001b[0;34m[\u001b[0m\u001b[0;36m1\u001b[0m\u001b[0;34m,\u001b[0m\u001b[0;36m2\u001b[0m\u001b[0;34m,\u001b[0m\u001b[0;36m3\u001b[0m\u001b[0;34m,\u001b[0m\u001b[0;36m5\u001b[0m\u001b[0;34m]\u001b[0m\u001b[0;34m)\u001b[0m\u001b[0;34m\u001b[0m\u001b[0;34m\u001b[0m\u001b[0m\n\u001b[1;32m      4\u001b[0m \u001b[0mv\u001b[0m \u001b[0;34m=\u001b[0m \u001b[0mnp\u001b[0m\u001b[0;34m.\u001b[0m\u001b[0marray\u001b[0m\u001b[0;34m(\u001b[0m\u001b[0;34m[\u001b[0m\u001b[0;36m2\u001b[0m\u001b[0;34m,\u001b[0m\u001b[0;36m3\u001b[0m\u001b[0;34m,\u001b[0m\u001b[0;36m5\u001b[0m\u001b[0;34m,\u001b[0m\u001b[0;36m6\u001b[0m\u001b[0;34m]\u001b[0m\u001b[0;34m)\u001b[0m\u001b[0;34m\u001b[0m\u001b[0;34m\u001b[0m\u001b[0m\n\u001b[0;32m----> 5\u001b[0;31m \u001b[0msum\u001b[0m\u001b[0;34m(\u001b[0m\u001b[0;36m3.\u001b[0m\u001b[0;34m,\u001b[0m\u001b[0;36m4.\u001b[0m\u001b[0;34m)\u001b[0m\u001b[0;34m\u001b[0m\u001b[0;34m\u001b[0m\u001b[0m\n\u001b[0m",
            "\u001b[0;31mTypeError\u001b[0m: 'float' object is not iterable"
          ]
        }
      ]
    },
    {
      "cell_type": "code",
      "source": [
        "w = u+v*2 # no more sum(u, mul(v,2))\n",
        "print(w)\n",
        "w"
      ],
      "metadata": {
        "colab": {
          "base_uri": "https://localhost:8080/"
        },
        "id": "eThqN_r5h-Nl",
        "outputId": "46bcba90-7ad6-42d1-c257-49705665859d"
      },
      "execution_count": null,
      "outputs": [
        {
          "output_type": "stream",
          "name": "stdout",
          "text": [
            "[ 5  8 13 17]\n"
          ]
        },
        {
          "output_type": "execute_result",
          "data": {
            "text/plain": [
              "array([ 5,  8, 13, 17])"
            ]
          },
          "metadata": {},
          "execution_count": 157
        }
      ]
    },
    {
      "cell_type": "code",
      "source": [
        "# w*=3\n",
        "# w\n",
        "w += 100 # add a vector (100,100)\n",
        "w"
      ],
      "metadata": {
        "colab": {
          "base_uri": "https://localhost:8080/"
        },
        "id": "lV92iUdHmS84",
        "outputId": "0b76e5c5-1753-4d2c-bed3-9469630b3b0d"
      },
      "execution_count": null,
      "outputs": [
        {
          "output_type": "execute_result",
          "data": {
            "text/plain": [
              "array([205, 208, 213, 217])"
            ]
          },
          "metadata": {},
          "execution_count": 159
        }
      ]
    },
    {
      "cell_type": "code",
      "source": [
        "print(u*v)"
      ],
      "metadata": {
        "colab": {
          "base_uri": "https://localhost:8080/"
        },
        "id": "2x9PydAEmmZw",
        "outputId": "721c0b2b-a702-45dd-fd24-55855da2ba2c"
      },
      "execution_count": null,
      "outputs": [
        {
          "output_type": "stream",
          "name": "stdout",
          "text": [
            "[ 2  6 15 30]\n"
          ]
        }
      ]
    },
    {
      "cell_type": "markdown",
      "source": [
        "The *shape* of an array"
      ],
      "metadata": {
        "id": "6tYtRRLduuoC"
      }
    },
    {
      "cell_type": "code",
      "source": [
        "u = np.array([1,2,3,5])\n",
        "print(u.shape)\n",
        "u"
      ],
      "metadata": {
        "colab": {
          "base_uri": "https://localhost:8080/"
        },
        "id": "uth-Cy4wu5cS",
        "outputId": "0dac6781-6bcb-4675-c0d7-476d71f7d222"
      },
      "execution_count": null,
      "outputs": [
        {
          "output_type": "stream",
          "name": "stdout",
          "text": [
            "(4,)\n"
          ]
        },
        {
          "output_type": "execute_result",
          "data": {
            "text/plain": [
              "array([1, 2, 3, 5])"
            ]
          },
          "metadata": {},
          "execution_count": 161
        }
      ]
    },
    {
      "cell_type": "code",
      "source": [
        "u.shape = (1,4) # row vector.....expects a tuple\n",
        "print(u.shape)\n",
        "u"
      ],
      "metadata": {
        "colab": {
          "base_uri": "https://localhost:8080/"
        },
        "id": "wg6WJ57Fmq0f",
        "outputId": "67286386-e736-485c-ae7e-6eacf8d1c203"
      },
      "execution_count": null,
      "outputs": [
        {
          "output_type": "stream",
          "name": "stdout",
          "text": [
            "(1, 4)\n"
          ]
        },
        {
          "output_type": "execute_result",
          "data": {
            "text/plain": [
              "array([[1, 2, 3, 5]])"
            ]
          },
          "metadata": {},
          "execution_count": 162
        }
      ]
    },
    {
      "cell_type": "code",
      "source": [
        "u.shape = (4,1) # column vector.....expects a tuple\n",
        "print(u.shape)\n",
        "u"
      ],
      "metadata": {
        "colab": {
          "base_uri": "https://localhost:8080/"
        },
        "id": "_fgzjfpxvaEv",
        "outputId": "5c364850-68fb-4919-ba95-f9cf75a26a72"
      },
      "execution_count": null,
      "outputs": [
        {
          "output_type": "stream",
          "name": "stdout",
          "text": [
            "(4, 1)\n"
          ]
        },
        {
          "output_type": "execute_result",
          "data": {
            "text/plain": [
              "array([[1],\n",
              "       [2],\n",
              "       [3],\n",
              "       [5]])"
            ]
          },
          "metadata": {},
          "execution_count": 163
        }
      ]
    },
    {
      "cell_type": "code",
      "source": [
        "u = np.array([1,2,3,5])\n",
        "u = u.reshape((4,1)) # equivalent to  u.shape = (4,1)\n",
        "\n",
        "\n",
        "u = np.array([1,2,3,5]).reshape((4,1)) #same but one line\n",
        "u"
      ],
      "metadata": {
        "id": "wq2HgnHRv4Lb"
      },
      "execution_count": null,
      "outputs": []
    },
    {
      "cell_type": "code",
      "source": [
        "u.shape = (2,2)\n",
        "print(u.shape)\n",
        "u"
      ],
      "metadata": {
        "colab": {
          "base_uri": "https://localhost:8080/"
        },
        "id": "MVVmTjlnv1uM",
        "outputId": "11c6e5e3-dfd4-41ed-96b6-c4d8cb1d28db"
      },
      "execution_count": null,
      "outputs": [
        {
          "output_type": "stream",
          "name": "stdout",
          "text": [
            "(2, 2)\n"
          ]
        },
        {
          "output_type": "execute_result",
          "data": {
            "text/plain": [
              "array([[1, 2],\n",
              "       [3, 5]])"
            ]
          },
          "metadata": {},
          "execution_count": 164
        }
      ]
    },
    {
      "cell_type": "code",
      "source": [
        "u = np.array([1,2,3,5])\n",
        "v = np.array([2,3,5,6])\n",
        "w = np.concatenate((u,v), axis = 0)\n",
        "w.shape"
      ],
      "metadata": {
        "colab": {
          "base_uri": "https://localhost:8080/"
        },
        "id": "HlAczT3Qzvpl",
        "outputId": "d35999cf-1947-4627-fdc7-fe7705b64dba"
      },
      "execution_count": null,
      "outputs": [
        {
          "output_type": "execute_result",
          "data": {
            "text/plain": [
              "(8,)"
            ]
          },
          "metadata": {},
          "execution_count": 165
        }
      ]
    },
    {
      "cell_type": "code",
      "source": [
        "u = np.array([1,2,3,5]).reshape((4,1))\n",
        "v = np.array([2,3,5,6]).reshape((4,1))\n",
        "w = np.concatenate((u,v), axis = 1)\n",
        "w.shape"
      ],
      "metadata": {
        "colab": {
          "base_uri": "https://localhost:8080/"
        },
        "id": "li9wq9myz6Vi",
        "outputId": "20352d6d-ba75-4c15-fa06-9e4e25f319a8"
      },
      "execution_count": null,
      "outputs": [
        {
          "output_type": "execute_result",
          "data": {
            "text/plain": [
              "(4, 2)"
            ]
          },
          "metadata": {},
          "execution_count": 172
        }
      ]
    },
    {
      "cell_type": "code",
      "source": [
        "u = np.array([1,2,3,5])\n",
        "v = np.array([2,3,5,6])\n",
        "\n",
        "np.dot(u,v) #dot product"
      ],
      "metadata": {
        "colab": {
          "base_uri": "https://localhost:8080/"
        },
        "id": "j4u4FcG_v5aW",
        "outputId": "44b6cf23-8b9c-40c4-a5bc-5859ba4d0b5f"
      },
      "execution_count": null,
      "outputs": [
        {
          "output_type": "execute_result",
          "data": {
            "text/plain": [
              "53"
            ]
          },
          "metadata": {},
          "execution_count": 168
        }
      ]
    },
    {
      "cell_type": "markdown",
      "source": [
        "We can use the @ symbol for matrix multiplication"
      ],
      "metadata": {
        "id": "YvN_BvJZwiBt"
      }
    },
    {
      "cell_type": "code",
      "source": [
        "v = v.reshape((1,4))\n",
        "v"
      ],
      "metadata": {
        "colab": {
          "base_uri": "https://localhost:8080/"
        },
        "id": "l5n-UmjgxDBb",
        "outputId": "081acd61-47c9-46e6-d700-da5306800235"
      },
      "execution_count": null,
      "outputs": [
        {
          "output_type": "execute_result",
          "data": {
            "text/plain": [
              "array([[2, 3, 5, 6]])"
            ]
          },
          "metadata": {},
          "execution_count": 169
        }
      ]
    },
    {
      "cell_type": "code",
      "source": [
        "v@u # (1,4)x(4,1) #inner product"
      ],
      "metadata": {
        "colab": {
          "base_uri": "https://localhost:8080/"
        },
        "id": "AwR34ZTPxlGM",
        "outputId": "1f6772a4-84d0-4ae4-f78d-123fe1167ee7"
      },
      "execution_count": null,
      "outputs": [
        {
          "output_type": "execute_result",
          "data": {
            "text/plain": [
              "array([53])"
            ]
          },
          "metadata": {},
          "execution_count": 170
        }
      ]
    },
    {
      "cell_type": "code",
      "source": [
        "u.shape"
      ],
      "metadata": {
        "colab": {
          "base_uri": "https://localhost:8080/"
        },
        "id": "MwqsvY5HQqa8",
        "outputId": "9880f242-ed0b-4597-8547-3e364f5ff5b7"
      },
      "execution_count": null,
      "outputs": [
        {
          "output_type": "execute_result",
          "data": {
            "text/plain": [
              "(4, 1)"
            ]
          },
          "metadata": {},
          "execution_count": 174
        }
      ]
    },
    {
      "cell_type": "code",
      "source": [
        "v = v.reshape((1,4))"
      ],
      "metadata": {
        "id": "PnlRm0hMQruu"
      },
      "execution_count": null,
      "outputs": []
    },
    {
      "cell_type": "code",
      "source": [
        "w = u@v # (4,1)x(1,4)\n",
        "print(w.shape)"
      ],
      "metadata": {
        "colab": {
          "base_uri": "https://localhost:8080/"
        },
        "id": "R5e4Yh-BxiyR",
        "outputId": "9cdbd12d-e1ff-4b29-e440-13ccc193b555"
      },
      "execution_count": null,
      "outputs": [
        {
          "output_type": "stream",
          "name": "stdout",
          "text": [
            "(4, 4)\n"
          ]
        }
      ]
    },
    {
      "cell_type": "markdown",
      "source": [
        "We can create any shape arrays and change their entries as we go"
      ],
      "metadata": {
        "id": "KH7eH3IxyEIS"
      }
    },
    {
      "cell_type": "code",
      "source": [
        "np.empty(shape = (3,3))"
      ],
      "metadata": {
        "id": "Gz-E9Xq-yWvb"
      },
      "execution_count": null,
      "outputs": []
    },
    {
      "cell_type": "code",
      "source": [
        "np.zeros(shape = (5,3))"
      ],
      "metadata": {
        "id": "nw5G75zF9Q-g"
      },
      "execution_count": null,
      "outputs": []
    },
    {
      "cell_type": "code",
      "source": [
        "np.ones((2,3))"
      ],
      "metadata": {
        "id": "Rcs6AhA3yljI"
      },
      "execution_count": null,
      "outputs": []
    },
    {
      "cell_type": "code",
      "source": [
        "#np.random.seed(0)\n",
        "np.random.random(5)"
      ],
      "metadata": {
        "colab": {
          "base_uri": "https://localhost:8080/"
        },
        "id": "U0HALxBO1Vfr",
        "outputId": "1cc860be-c996-4b86-95e5-33ff2a7c2cc9"
      },
      "execution_count": null,
      "outputs": [
        {
          "output_type": "execute_result",
          "data": {
            "text/plain": [
              "array([0.97861834, 0.79915856, 0.46147936, 0.78052918, 0.11827443])"
            ]
          },
          "metadata": {},
          "execution_count": 261
        }
      ]
    },
    {
      "cell_type": "code",
      "source": [
        "np.diag([3,4,5,6])"
      ],
      "metadata": {
        "id": "hu1Mq0kDypSg"
      },
      "execution_count": null,
      "outputs": []
    },
    {
      "cell_type": "code",
      "source": [
        "xs = np.linspace(0,1, 5)\n",
        "print(\"These are the x values\",xs,'\\nThere are', len(xs), 'points in the partition.')"
      ],
      "metadata": {
        "id": "JwDs12nO9a4a"
      },
      "execution_count": null,
      "outputs": []
    },
    {
      "cell_type": "code",
      "source": [
        "import matplotlib.pyplot as plt\n",
        "xs = np.linspace(0,10*np.pi, 10**7)\n",
        "ys = np.sin(xs)\n",
        "#ys = [np.sin(x) for x in xs]\n",
        "plt.plot(xs,ys)"
      ],
      "metadata": {
        "colab": {
          "base_uri": "https://localhost:8080/",
          "height": 282
        },
        "id": "qmgAoBew7lEI",
        "outputId": "7cc662d8-61c0-49bd-f594-f21fa472724f"
      },
      "execution_count": null,
      "outputs": [
        {
          "output_type": "execute_result",
          "data": {
            "text/plain": [
              "[<matplotlib.lines.Line2D at 0x7f9261882a60>]"
            ]
          },
          "metadata": {},
          "execution_count": 266
        },
        {
          "output_type": "display_data",
          "data": {
            "text/plain": [
              "<Figure size 432x288 with 1 Axes>"
            ],
            "image/png": "[encoded data removed]"
          },
          "metadata": {
            "needs_background": "light"
          }
        }
      ]
    },
    {
      "cell_type": "code",
      "source": [
        "xs = np.linspace(0,2*np.pi,10**8)\n",
        "ys = np.exp(np.sin(xs)+5)*4\n",
        "plt.plot(xs,ys)"
      ],
      "metadata": {
        "colab": {
          "base_uri": "https://localhost:8080/",
          "height": 282
        },
        "id": "RgxWPH-59ANq",
        "outputId": "6ea3feaf-7bb9-49ee-b803-96ff15954cd4"
      },
      "execution_count": null,
      "outputs": [
        {
          "output_type": "execute_result",
          "data": {
            "text/plain": [
              "[<matplotlib.lines.Line2D at 0x7f9261e75b50>]"
            ]
          },
          "metadata": {},
          "execution_count": 263
        },
        {
          "output_type": "display_data",
          "data": {
            "text/plain": [
              "<Figure size 432x288 with 1 Axes>"
            ],
            "image/png": "[encoded data removed]"
          },
          "metadata": {
            "needs_background": "light"
          }
        }
      ]
    }
  ]
}